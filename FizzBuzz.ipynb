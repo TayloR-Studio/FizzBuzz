{
 "cells": [
  {
   "cell_type": "code",
   "execution_count": 15,
   "id": "461ca9eb-0cf3-48bc-a609-35b335479318",
   "metadata": {
    "collapsed": true,
    "jupyter": {
     "outputs_hidden": true
    }
   },
   "outputs": [
    {
     "name": "stdout",
     "output_type": "stream",
     "text": [
      "1\n",
      "2\n",
      "Fizz\n",
      "4\n",
      "Buzz\n",
      "Fizz\n",
      "7\n",
      "8\n",
      "Fizz\n",
      "Buzz\n",
      "11\n",
      "Fizz\n",
      "13\n",
      "14\n",
      "FizzBuzz\n",
      "16\n",
      "17\n",
      "Fizz\n",
      "19\n"
     ]
    }
   ],
   "source": [
    "#First attempt - flawed due to the repetition\n",
    "\n",
    "#For i in a test sample of numbers - 1-20 covers the first multiple of 5 and 3 (15)\n",
    "for i in range(1,20):\n",
    "    #If i is divisable by 3 & 5 - print 'FizzBuzz'\n",
    "    #This test has to be done first or the results of divisible by 3/5/none will be printed instead\n",
    "    if i % 3 == 0 and i % 5 == 0:\n",
    "        print(\"FizzBuzz\")\n",
    "    #Else if i is divisible by 3 - print 'Fizz'\n",
    "    elif i % 3 == 0:\n",
    "        print(\"Fizz\")\n",
    "    #Else if i is divisible by 5 - print 'Buzz'\n",
    "    elif i % 5 == 0:\n",
    "        print(\"Buzz\")\n",
    "    #Else print the number\n",
    "    else:\n",
    "        print(i)"
   ]
  },
  {
   "cell_type": "code",
   "execution_count": 19,
   "id": "70705376-710d-44d7-b097-2b7e5333017e",
   "metadata": {
    "collapsed": true,
    "jupyter": {
     "outputs_hidden": true
    }
   },
   "outputs": [
    {
     "name": "stdout",
     "output_type": "stream",
     "text": [
      "1\n",
      "2\n",
      "Fizz\n",
      "4\n",
      "Buzz\n",
      "Fizz\n",
      "7\n",
      "8\n",
      "Fizz\n",
      "Buzz\n",
      "11\n",
      "Fizz\n",
      "13\n",
      "14\n",
      "FizzBuzz\n",
      "16\n",
      "17\n",
      "Fizz\n",
      "19\n"
     ]
    }
   ],
   "source": [
    "#Slightly more advanced attempt - each number is only listed once but the 'if i % ___ == 0' is listed multiple times\n",
    "\n",
    "#For i in a test sample of numbers - 1-20 covers the first multiple of 5 and 3 (15)\n",
    "for i in range(1,20):\n",
    "    #Creates/resets a blank string for the FizzBuzz result\n",
    "    output = ''\n",
    "\n",
    "    #If i is divisible by 3 - add 'Fizz' to the output\n",
    "    if i % 3 == 0:\n",
    "        output += 'Fizz'\n",
    "    #If i is divisible by 5 - add 'Buzz' to the output\n",
    "    if i % 5 == 0:\n",
    "        output += 'Buzz'\n",
    "    #If the output is still empty - meaning i is divisible by neither 3 or 5, make i the output\n",
    "    if output == '':\n",
    "        output = i\n",
    "    #Print the output - 'Fizz', 'Buzz', 'FizzBuzz' or i\n",
    "    print(output)"
   ]
  },
  {
   "cell_type": "code",
   "execution_count": null,
   "id": "046171d7-af9b-46c4-b79e-7e9a65bd188b",
   "metadata": {},
   "outputs": [],
   "source": []
  }
 ],
 "metadata": {
  "kernelspec": {
   "display_name": "Python [conda env:base] *",
   "language": "python",
   "name": "conda-base-py"
  },
  "language_info": {
   "codemirror_mode": {
    "name": "ipython",
    "version": 3
   },
   "file_extension": ".py",
   "mimetype": "text/x-python",
   "name": "python",
   "nbconvert_exporter": "python",
   "pygments_lexer": "ipython3",
   "version": "3.12.7"
  }
 },
 "nbformat": 4,
 "nbformat_minor": 5
}
